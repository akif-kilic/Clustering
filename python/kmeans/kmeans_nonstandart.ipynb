{
 "cells": [
  {
   "cell_type": "code",
   "execution_count": 6,
   "id": "3de71f34-f060-4644-9bd9-dde376dd8dcc",
   "metadata": {},
   "outputs": [],
   "source": [
    "import numpy as np\n",
    "import pandas as pd\n",
    "import matplotlib.pyplot as plt\n",
    "import seaborn as sns\n",
    "#Stilleri Seaborn olarak ayarlama\n",
    "sns.set\n",
    "#KMeans modülünü içe aktarma\n",
    "from sklearn.cluster import KMeans\n"
   ]
  },
  {
   "cell_type": "code",
   "execution_count": 7,
   "id": "5ef31e02-9ee3-4865-8ef1-b86525063ed7",
   "metadata": {},
   "outputs": [],
   "source": [
    "#Verinin yüklenmesi\n",
    "data = pd.read_csv('points.txt', delimiter=\"\\t\")"
   ]
  },
  {
   "cell_type": "code",
   "execution_count": 8,
   "id": "873a4a19-4af6-49e6-a465-8909243eb332",
   "metadata": {
    "tags": []
   },
   "outputs": [
    {
     "data": {
      "text/html": [
       "<div>\n",
       "<style scoped>\n",
       "    .dataframe tbody tr th:only-of-type {\n",
       "        vertical-align: middle;\n",
       "    }\n",
       "\n",
       "    .dataframe tbody tr th {\n",
       "        vertical-align: top;\n",
       "    }\n",
       "\n",
       "    .dataframe thead th {\n",
       "        text-align: right;\n",
       "    }\n",
       "</style>\n",
       "<table border=\"1\" class=\"dataframe\">\n",
       "  <thead>\n",
       "    <tr style=\"text-align: right;\">\n",
       "      <th></th>\n",
       "      <th>x</th>\n",
       "      <th>y</th>\n",
       "    </tr>\n",
       "  </thead>\n",
       "  <tbody>\n",
       "    <tr>\n",
       "      <th>0</th>\n",
       "      <td>0.12</td>\n",
       "      <td>0.29</td>\n",
       "    </tr>\n",
       "    <tr>\n",
       "      <th>1</th>\n",
       "      <td>0.57</td>\n",
       "      <td>0.19</td>\n",
       "    </tr>\n",
       "    <tr>\n",
       "      <th>2</th>\n",
       "      <td>0.60</td>\n",
       "      <td>0.57</td>\n",
       "    </tr>\n",
       "    <tr>\n",
       "      <th>3</th>\n",
       "      <td>0.06</td>\n",
       "      <td>0.28</td>\n",
       "    </tr>\n",
       "    <tr>\n",
       "      <th>4</th>\n",
       "      <td>0.06</td>\n",
       "      <td>0.42</td>\n",
       "    </tr>\n",
       "    <tr>\n",
       "      <th>...</th>\n",
       "      <td>...</td>\n",
       "      <td>...</td>\n",
       "    </tr>\n",
       "    <tr>\n",
       "      <th>95</th>\n",
       "      <td>0.48</td>\n",
       "      <td>0.22</td>\n",
       "    </tr>\n",
       "    <tr>\n",
       "      <th>96</th>\n",
       "      <td>0.11</td>\n",
       "      <td>0.57</td>\n",
       "    </tr>\n",
       "    <tr>\n",
       "      <th>97</th>\n",
       "      <td>0.65</td>\n",
       "      <td>0.69</td>\n",
       "    </tr>\n",
       "    <tr>\n",
       "      <th>98</th>\n",
       "      <td>0.55</td>\n",
       "      <td>0.42</td>\n",
       "    </tr>\n",
       "    <tr>\n",
       "      <th>99</th>\n",
       "      <td>0.22</td>\n",
       "      <td>0.19</td>\n",
       "    </tr>\n",
       "  </tbody>\n",
       "</table>\n",
       "<p>100 rows × 2 columns</p>\n",
       "</div>"
      ],
      "text/plain": [
       "       x     y\n",
       "0   0.12  0.29\n",
       "1   0.57  0.19\n",
       "2   0.60  0.57\n",
       "3   0.06  0.28\n",
       "4   0.06  0.42\n",
       "..   ...   ...\n",
       "95  0.48  0.22\n",
       "96  0.11  0.57\n",
       "97  0.65  0.69\n",
       "98  0.55  0.42\n",
       "99  0.22  0.19\n",
       "\n",
       "[100 rows x 2 columns]"
      ]
     },
     "execution_count": 8,
     "metadata": {},
     "output_type": "execute_result"
    }
   ],
   "source": [
    "#Verinin incelenmesi\n",
    "data"
   ]
  },
  {
   "cell_type": "code",
   "execution_count": 9,
   "id": "5c88652c-d000-45f2-ad1c-7a98c9bdacb9",
   "metadata": {
    "tags": []
   },
   "outputs": [
    {
     "data": {
      "text/plain": [
       "Text(0, 0.5, 'y')"
      ]
     },
     "execution_count": 9,
     "metadata": {},
     "output_type": "execute_result"
    },
    {
     "data": {
      "image/png": "[encoded data removed]",
      "text/plain": [
       "<Figure size 432x288 with 1 Axes>"
      ]
     },
     "metadata": {
      "needs_background": "light"
     },
     "output_type": "display_data"
    }
   ],
   "source": [
    "# İki değişkenin açılım grafiğini oluşturma\n",
    "plt.scatter(data['x'], data['y'])\n",
    "#Eksenleri isimlendirme\n",
    "plt.xlabel('x')\n",
    "plt.ylabel('y')"
   ]
  },
  {
   "cell_type": "code",
   "execution_count": 10,
   "id": "d38cf01d-504a-4804-b43e-5abb10985c32",
   "metadata": {},
   "outputs": [],
   "source": [
    "#Veri değişkeninin bir kopyasını oluşturarak her iki özelliği de seçiyoruz.\n",
    "x=data.copy()"
   ]
  },
  {
   "cell_type": "code",
   "execution_count": 11,
   "id": "162b70e8-d59c-4cd7-b014-1282171ea1f9",
   "metadata": {},
   "outputs": [
    {
     "data": {
      "text/plain": [
       "KMeans(n_clusters=4)"
      ]
     },
     "execution_count": 11,
     "metadata": {},
     "output_type": "execute_result"
    }
   ],
   "source": [
    "# Bir nesne oluşturalım buna kmeans diyelim\n",
    "# Parantez içindeki sayı K, yani hedeflediğimiz küme sayısıdır.\n",
    "kmeans=KMeans(4)\n",
    "\n",
    "#datayı fit edelim(uyduralım)\n",
    "kmeans.fit(x)\n"
   ]
  },
  {
   "cell_type": "code",
   "execution_count": 12,
   "id": "2a538696-cbf2-4884-8108-7dd09968d96c",
   "metadata": {},
   "outputs": [],
   "source": [
    "#input verilerinin bir kopyasını oluşturalım\n",
    "clusters=x.copy()\n",
    "#öngörülen kümeleri not edelim\n",
    "clusters['kume_tahmin']=kmeans.fit_predict(x)"
   ]
  },
  {
   "cell_type": "code",
   "execution_count": 13,
   "id": "14d3a9a8-2e11-4235-8215-3ff265ba2818",
   "metadata": {
    "tags": []
   },
   "outputs": [
    {
     "data": {
      "text/plain": [
       "Text(0, 0.5, 'y')"
      ]
     },
     "execution_count": 13,
     "metadata": {},
     "output_type": "execute_result"
    },
    {
     "data": {
      "image/png": "[encoded data removed]",
      "text/plain": [
       "<Figure size 432x288 with 1 Axes>"
      ]
     },
     "metadata": {
      "needs_background": "light"
     },
     "output_type": "display_data"
    }
   ],
   "source": [
    "# c (color) bir değişkenle kodlanabilen bir argümandır\n",
    "# bu durumda değişken, plt.scattera iki renk olduğunu \n",
    "# gösteren 0,1 değerlerine sahiptir. (0,1) Küme 0'daki tüm noktalar aynı renk\n",
    "#Küme 1'deki noktalar başka renk oluyor.\n",
    "# cmap renk haritasıdır\n",
    "plt.scatter(clusters['x'], clusters['y'], c=clusters['kume_tahmin'], cmap='rainbow')\n",
    "plt.xlabel('x')\n",
    "plt.ylabel('y')"
   ]
  },
  {
   "cell_type": "code",
   "execution_count": 14,
   "id": "0fbf444a-e2c6-4d6b-81e7-ef2bab279acb",
   "metadata": {
    "tags": []
   },
   "outputs": [
    {
     "data": {
      "text/plain": [
       "[10.940703999999997,\n",
       " 5.451443232323232,\n",
       " 3.6983516895249444,\n",
       " 2.6599037689393934,\n",
       " 1.9097807306255832,\n",
       " 1.5546754047619054,\n",
       " 1.3060811223571753,\n",
       " 1.1042199335459864,\n",
       " 0.9668918857303688]"
      ]
     },
     "execution_count": 14,
     "metadata": {},
     "output_type": "execute_result"
    }
   ],
   "source": [
    "# K'yı seçmek\n",
    "#boş liste oluşturmak (küme içi kareler toplaması)\n",
    "kikt=[]\n",
    "\n",
    "#olası tüm küme çözümlerini bir döngü ile oluşturma\n",
    "# 1 ile 9 kümeden çözüm elde etmeyi seçtik; \n",
    "for i in range (1,10):\n",
    "    kmeans=KMeans(i)\n",
    "    #standartlaştırılış veriyi fit etme\n",
    "    kmeans.fit(x)\n",
    "    # yineleme değerini kikt'ye ekleme\n",
    "    kikt.append(kmeans.inertia_)\n",
    "    \n",
    "#sonucu kontrol\n",
    "kikt"
   ]
  },
  {
   "cell_type": "code",
   "execution_count": 11,
   "id": "c9d54404-4cd8-4e35-8905-3f807be13c31",
   "metadata": {
    "collapsed": true,
    "jupyter": {
     "outputs_hidden": true
    },
    "tags": []
   },
   "outputs": [
    {
     "data": {
      "text/plain": [
       "Text(0, 0.5, 'Küme-içi Kareler Toplamı')"
      ]
     },
     "execution_count": 11,
     "metadata": {},
     "output_type": "execute_result"
    },
    {
     "data": {
      "image/png": "[encoded data removed]",
      "text/plain": [
       "<Figure size 432x288 with 1 Axes>"
      ]
     },
     "metadata": {
      "needs_background": "light"
     },
     "output_type": "display_data"
    }
   ],
   "source": [
    "# küme sayısı ve kikt grafiğini çizdirme\n",
    "plt.plot(range(1,10), kikt)\n",
    "#eksenleri isimlendirme\n",
    "plt.xlabel('Küme Sayısı')\n",
    "plt.ylabel('Küme-içi Kareler Toplamı')\n",
    "\n",
    "#Elbow Yöntemi\n",
    "# küme sayısına göre baktığımızda aslında 4 ten sonra bükülme oluyor gibi"
   ]
  },
  {
   "cell_type": "code",
   "execution_count": 15,
   "id": "60fc4df5-2b03-49a0-b00f-9c1e1ea9d038",
   "metadata": {},
   "outputs": [],
   "source": [
    "kmeans_new=KMeans(5)\n",
    "\n",
    "#datayı fit edelim(uyduralım)\n",
    "kmeans_new.fit(x)\n",
    "cluster_new= x.copy()\n",
    "cluster_new['kume_tahmin']=kmeans_new.fit_predict(x)"
   ]
  },
  {
   "cell_type": "code",
   "execution_count": 13,
   "id": "00b25a95-2e8a-4bfd-adb3-ea5378fea06e",
   "metadata": {
    "collapsed": true,
    "jupyter": {
     "outputs_hidden": true
    },
    "tags": []
   },
   "outputs": [
    {
     "data": {
      "text/html": [
       "<div>\n",
       "<style scoped>\n",
       "    .dataframe tbody tr th:only-of-type {\n",
       "        vertical-align: middle;\n",
       "    }\n",
       "\n",
       "    .dataframe tbody tr th {\n",
       "        vertical-align: top;\n",
       "    }\n",
       "\n",
       "    .dataframe thead th {\n",
       "        text-align: right;\n",
       "    }\n",
       "</style>\n",
       "<table border=\"1\" class=\"dataframe\">\n",
       "  <thead>\n",
       "    <tr style=\"text-align: right;\">\n",
       "      <th></th>\n",
       "      <th>x</th>\n",
       "      <th>y</th>\n",
       "      <th>kume_tahmin</th>\n",
       "    </tr>\n",
       "  </thead>\n",
       "  <tbody>\n",
       "    <tr>\n",
       "      <th>0</th>\n",
       "      <td>0.12</td>\n",
       "      <td>0.29</td>\n",
       "      <td>0</td>\n",
       "    </tr>\n",
       "    <tr>\n",
       "      <th>1</th>\n",
       "      <td>0.57</td>\n",
       "      <td>0.19</td>\n",
       "      <td>3</td>\n",
       "    </tr>\n",
       "    <tr>\n",
       "      <th>2</th>\n",
       "      <td>0.60</td>\n",
       "      <td>0.57</td>\n",
       "      <td>2</td>\n",
       "    </tr>\n",
       "    <tr>\n",
       "      <th>3</th>\n",
       "      <td>0.06</td>\n",
       "      <td>0.28</td>\n",
       "      <td>0</td>\n",
       "    </tr>\n",
       "    <tr>\n",
       "      <th>4</th>\n",
       "      <td>0.06</td>\n",
       "      <td>0.42</td>\n",
       "      <td>4</td>\n",
       "    </tr>\n",
       "    <tr>\n",
       "      <th>...</th>\n",
       "      <td>...</td>\n",
       "      <td>...</td>\n",
       "      <td>...</td>\n",
       "    </tr>\n",
       "    <tr>\n",
       "      <th>95</th>\n",
       "      <td>0.48</td>\n",
       "      <td>0.22</td>\n",
       "      <td>3</td>\n",
       "    </tr>\n",
       "    <tr>\n",
       "      <th>96</th>\n",
       "      <td>0.11</td>\n",
       "      <td>0.57</td>\n",
       "      <td>4</td>\n",
       "    </tr>\n",
       "    <tr>\n",
       "      <th>97</th>\n",
       "      <td>0.65</td>\n",
       "      <td>0.69</td>\n",
       "      <td>2</td>\n",
       "    </tr>\n",
       "    <tr>\n",
       "      <th>98</th>\n",
       "      <td>0.55</td>\n",
       "      <td>0.42</td>\n",
       "      <td>2</td>\n",
       "    </tr>\n",
       "    <tr>\n",
       "      <th>99</th>\n",
       "      <td>0.22</td>\n",
       "      <td>0.19</td>\n",
       "      <td>0</td>\n",
       "    </tr>\n",
       "  </tbody>\n",
       "</table>\n",
       "<p>100 rows × 3 columns</p>\n",
       "</div>"
      ],
      "text/plain": [
       "       x     y  kume_tahmin\n",
       "0   0.12  0.29            0\n",
       "1   0.57  0.19            3\n",
       "2   0.60  0.57            2\n",
       "3   0.06  0.28            0\n",
       "4   0.06  0.42            4\n",
       "..   ...   ...          ...\n",
       "95  0.48  0.22            3\n",
       "96  0.11  0.57            4\n",
       "97  0.65  0.69            2\n",
       "98  0.55  0.42            2\n",
       "99  0.22  0.19            0\n",
       "\n",
       "[100 rows x 3 columns]"
      ]
     },
     "execution_count": 13,
     "metadata": {},
     "output_type": "execute_result"
    }
   ],
   "source": [
    "cluster_new"
   ]
  },
  {
   "cell_type": "code",
   "execution_count": 22,
   "id": "d9f07b03-43d9-4be2-bacc-7a71c69bb68b",
   "metadata": {
    "collapsed": true,
    "jupyter": {
     "outputs_hidden": true
    },
    "tags": []
   },
   "outputs": [
    {
     "data": {
      "text/plain": [
       "Text(0, 0.5, 'y')"
      ]
     },
     "execution_count": 22,
     "metadata": {},
     "output_type": "execute_result"
    },
    {
     "data": {
      "image/png": "[encoded data removed]",
      "text/plain": [
       "<Figure size 432x288 with 1 Axes>"
      ]
     },
     "metadata": {
      "needs_background": "light"
     },
     "output_type": "display_data"
    }
   ],
   "source": [
    "plt.scatter(cluster_new['x'], cluster_new['y'], c=cluster_new['kume_tahmin'], cmap='rainbow')\n",
    "plt.xlabel('x')\n",
    "plt.ylabel('y')\n"
   ]
  },
  {
   "cell_type": "code",
   "execution_count": null,
   "id": "b61a5bd4-48bf-44a2-a073-b665cb920400",
   "metadata": {},
   "outputs": [],
   "source": []
  }
 ],
 "metadata": {
  "kernelspec": {
   "display_name": "Python 3 (ipykernel)",
   "language": "python",
   "name": "python3"
  },
  "language_info": {
   "codemirror_mode": {
    "name": "ipython",
    "version": 3
   },
   "file_extension": ".py",
   "mimetype": "text/x-python",
   "name": "python",
   "nbconvert_exporter": "python",
   "pygments_lexer": "ipython3",
   "version": "3.9.7"
  }
 },
 "nbformat": 4,
 "nbformat_minor": 5
}
