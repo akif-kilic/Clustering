{
 "cells": [
  {
   "cell_type": "code",
   "execution_count": 2,
   "id": "3de71f34-f060-4644-9bd9-dde376dd8dcc",
   "metadata": {},
   "outputs": [],
   "source": [
    "import numpy as np\n",
    "import pandas as pd\n",
    "import matplotlib.pyplot as plt\n",
    "import seaborn as sns\n",
    "#Stilleri Seaborn olarak ayarlama\n",
    "sns.set\n",
    "#KMeans modülünü içe aktarma\n",
    "from sklearn.cluster import KMeans\n"
   ]
  },
  {
   "cell_type": "code",
   "execution_count": 2,
   "id": "5ef31e02-9ee3-4865-8ef1-b86525063ed7",
   "metadata": {
    "tags": []
   },
   "outputs": [],
   "source": [
    "#Verinin yüklenmesi\n",
    "data = pd.read_csv('points.txt', delimiter=\"\\t\")"
   ]
  },
  {
   "cell_type": "code",
   "execution_count": 3,
   "id": "873a4a19-4af6-49e6-a465-8909243eb332",
   "metadata": {
    "collapsed": true,
    "jupyter": {
     "outputs_hidden": true
    },
    "tags": []
   },
   "outputs": [
    {
     "data": {
      "text/html": [
       "<div>\n",
       "<style scoped>\n",
       "    .dataframe tbody tr th:only-of-type {\n",
       "        vertical-align: middle;\n",
       "    }\n",
       "\n",
       "    .dataframe tbody tr th {\n",
       "        vertical-align: top;\n",
       "    }\n",
       "\n",
       "    .dataframe thead th {\n",
       "        text-align: right;\n",
       "    }\n",
       "</style>\n",
       "<table border=\"1\" class=\"dataframe\">\n",
       "  <thead>\n",
       "    <tr style=\"text-align: right;\">\n",
       "      <th></th>\n",
       "      <th>x</th>\n",
       "      <th>y</th>\n",
       "    </tr>\n",
       "  </thead>\n",
       "  <tbody>\n",
       "    <tr>\n",
       "      <th>0</th>\n",
       "      <td>0.12</td>\n",
       "      <td>0.29</td>\n",
       "    </tr>\n",
       "    <tr>\n",
       "      <th>1</th>\n",
       "      <td>0.57</td>\n",
       "      <td>0.19</td>\n",
       "    </tr>\n",
       "    <tr>\n",
       "      <th>2</th>\n",
       "      <td>0.60</td>\n",
       "      <td>0.57</td>\n",
       "    </tr>\n",
       "    <tr>\n",
       "      <th>3</th>\n",
       "      <td>0.06</td>\n",
       "      <td>0.28</td>\n",
       "    </tr>\n",
       "    <tr>\n",
       "      <th>4</th>\n",
       "      <td>0.06</td>\n",
       "      <td>0.42</td>\n",
       "    </tr>\n",
       "    <tr>\n",
       "      <th>...</th>\n",
       "      <td>...</td>\n",
       "      <td>...</td>\n",
       "    </tr>\n",
       "    <tr>\n",
       "      <th>95</th>\n",
       "      <td>0.48</td>\n",
       "      <td>0.22</td>\n",
       "    </tr>\n",
       "    <tr>\n",
       "      <th>96</th>\n",
       "      <td>0.11</td>\n",
       "      <td>0.57</td>\n",
       "    </tr>\n",
       "    <tr>\n",
       "      <th>97</th>\n",
       "      <td>0.65</td>\n",
       "      <td>0.69</td>\n",
       "    </tr>\n",
       "    <tr>\n",
       "      <th>98</th>\n",
       "      <td>0.55</td>\n",
       "      <td>0.42</td>\n",
       "    </tr>\n",
       "    <tr>\n",
       "      <th>99</th>\n",
       "      <td>0.22</td>\n",
       "      <td>0.19</td>\n",
       "    </tr>\n",
       "  </tbody>\n",
       "</table>\n",
       "<p>100 rows × 2 columns</p>\n",
       "</div>"
      ],
      "text/plain": [
       "       x     y\n",
       "0   0.12  0.29\n",
       "1   0.57  0.19\n",
       "2   0.60  0.57\n",
       "3   0.06  0.28\n",
       "4   0.06  0.42\n",
       "..   ...   ...\n",
       "95  0.48  0.22\n",
       "96  0.11  0.57\n",
       "97  0.65  0.69\n",
       "98  0.55  0.42\n",
       "99  0.22  0.19\n",
       "\n",
       "[100 rows x 2 columns]"
      ]
     },
     "execution_count": 3,
     "metadata": {},
     "output_type": "execute_result"
    }
   ],
   "source": [
    "#Verinin incelenmesi\n",
    "data"
   ]
  },
  {
   "cell_type": "code",
   "execution_count": 4,
   "id": "5c88652c-d000-45f2-ad1c-7a98c9bdacb9",
   "metadata": {},
   "outputs": [
    {
     "data": {
      "text/plain": [
       "Text(0, 0.5, 'y')"
      ]
     },
     "execution_count": 4,
     "metadata": {},
     "output_type": "execute_result"
    },
    {
     "data": {
      "image/png": "[encoded data removed]",
      "text/plain": [
       "<Figure size 432x288 with 1 Axes>"
      ]
     },
     "metadata": {
      "needs_background": "light"
     },
     "output_type": "display_data"
    }
   ],
   "source": [
    "# İki değişkenin açılım grafiğini oluşturma\n",
    "plt.scatter(data['x'], data['y'])\n",
    "#Eksenleri isimlendirme\n",
    "plt.xlabel('x')\n",
    "plt.ylabel('y')"
   ]
  },
  {
   "cell_type": "code",
   "execution_count": 5,
   "id": "d38cf01d-504a-4804-b43e-5abb10985c32",
   "metadata": {},
   "outputs": [],
   "source": [
    "#Veri değişkeninin bir kopyasını oluşturarak her iki özelliği de seçiyoruz.\n",
    "x=data.copy()"
   ]
  },
  {
   "cell_type": "code",
   "execution_count": 6,
   "id": "162b70e8-d59c-4cd7-b014-1282171ea1f9",
   "metadata": {},
   "outputs": [
    {
     "data": {
      "text/plain": [
       "KMeans(n_clusters=5)"
      ]
     },
     "execution_count": 6,
     "metadata": {},
     "output_type": "execute_result"
    }
   ],
   "source": [
    "# Bir nesne oluşturalım buna kmeans diyelim\n",
    "# Parantez içindeki sayı K, yani hedeflediğimiz küme sayısıdır.\n",
    "kmeans=KMeans(5)\n",
    "\n",
    "#datayı fit edelim(uyduralım)\n",
    "kmeans.fit(x)\n"
   ]
  },
  {
   "cell_type": "code",
   "execution_count": 7,
   "id": "2a538696-cbf2-4884-8108-7dd09968d96c",
   "metadata": {},
   "outputs": [],
   "source": [
    "#input verilerinin bir kopyasını oluşturalım\n",
    "clusters=x.copy()\n",
    "#öngörülen kümeleri not edelim\n",
    "clusters['kume_tahmin']=kmeans.fit_predict(x)"
   ]
  },
  {
   "cell_type": "code",
   "execution_count": 8,
   "id": "14d3a9a8-2e11-4235-8215-3ff265ba2818",
   "metadata": {},
   "outputs": [
    {
     "data": {
      "text/plain": [
       "Text(0, 0.5, 'y')"
      ]
     },
     "execution_count": 8,
     "metadata": {},
     "output_type": "execute_result"
    },
    {
     "data": {
      "image/png": "[encoded data removed]",
      "text/plain": [
       "<Figure size 432x288 with 1 Axes>"
      ]
     },
     "metadata": {
      "needs_background": "light"
     },
     "output_type": "display_data"
    }
   ],
   "source": [
    "# c (color) bir değişkenle kodlanabilen bir argümandır\n",
    "# bu durumda değişken, plt.scattera iki renk olduğunu \n",
    "# gösteren 0,1 değerlerine sahiptir. (0,1) Küme 0'daki tüm noktalar aynı renk\n",
    "#Küme 1'deki noktalar başka renk oluyor.\n",
    "# cmap renk haritasıdır\n",
    "plt.scatter(clusters['x'], clusters['y'], c=clusters['kume_tahmin'], cmap='rainbow')\n",
    "plt.xlabel('x')\n",
    "plt.ylabel('y')"
   ]
  },
  {
   "cell_type": "code",
   "execution_count": 9,
   "id": "74ab8c7e-b6e0-4a03-95ec-759849a12e28",
   "metadata": {
    "collapsed": true,
    "jupyter": {
     "outputs_hidden": true
    },
    "tags": []
   },
   "outputs": [
    {
     "data": {
      "text/plain": [
       "array([[-1.09263519, -0.34204835],\n",
       "       [ 0.51208359, -0.91212894],\n",
       "       [ 0.61906484,  1.25417729],\n",
       "       [-1.30659769, -0.39905641],\n",
       "       [-1.30659769,  0.39905641],\n",
       "       [-0.98565393, -0.57008059],\n",
       "       [-1.44923936, -0.85512088],\n",
       "       [ 0.04849817, -0.62708865],\n",
       "       [ 1.43925444,  2.33733041],\n",
       "       [ 0.69038568, -0.11401612],\n",
       "       [ 0.33378151,  1.6532337 ],\n",
       "       [ 1.54623569, -1.14016117],\n",
       "       [-1.16395602,  0.        ],\n",
       "       [ 1.72453778,  1.31118535],\n",
       "       [-1.1282956 ,  0.6840967 ],\n",
       "       [ 0.33378151, -0.34204835],\n",
       "       [-1.02131435, -1.36819341],\n",
       "       [ 0.47642318, -0.62708865],\n",
       "       [-1.52056019, -1.02614506],\n",
       "       [ 0.51208359,  0.17102418],\n",
       "       [ 1.51057528, -0.28504029],\n",
       "       [ 1.7601982 ,  0.91212894],\n",
       "       [ 2.00982112,  0.17102418],\n",
       "       [ 0.29812109, -1.53921758],\n",
       "       [-0.73603101, -1.25417729],\n",
       "       [-1.16395602, -0.28504029],\n",
       "       [ 0.29812109, -1.08315311],\n",
       "       [ 0.58340443,  0.6840967 ],\n",
       "       [ 1.18963152, -0.05700806],\n",
       "       [-1.23527686,  0.85512088],\n",
       "       [ 0.69038568,  0.51307253],\n",
       "       [ 0.33378151, -0.91212894],\n",
       "       [-0.9143331 , -1.19716923],\n",
       "       [ 1.83151903,  0.        ],\n",
       "       [ 0.58340443,  0.6840967 ],\n",
       "       [ 0.04849817, -0.17102418],\n",
       "       [ 1.83151903,  0.969137  ],\n",
       "       [ 0.83302735,  0.05700806],\n",
       "       [ 0.08415858,  0.51307253],\n",
       "       [ 1.47491486, -1.59622564],\n",
       "       [ 0.36944192, -0.6840967 ],\n",
       "       [ 0.44076276, -1.25417729],\n",
       "       [ 0.61906484,  1.36819341],\n",
       "       [-0.20112475,  1.53921758],\n",
       "       [-0.66471018, -0.91212894],\n",
       "       [ 0.54774401, -1.08315311],\n",
       "       [ 1.58189611,  0.969137  ],\n",
       "       [-0.05848308, -1.76724982],\n",
       "       [-1.1282956 ,  0.57008059],\n",
       "       [ 0.04849817, -1.19716923],\n",
       "       [-0.0941435 , -1.76724982],\n",
       "       [-0.0941435 ,  1.53921758],\n",
       "       [ 1.43925444, -1.6532337 ],\n",
       "       [-0.0941435 , -0.34204835],\n",
       "       [-0.12980392,  1.19716923],\n",
       "       [-0.20112475, -0.34204835],\n",
       "       [-1.02131435,  1.02614506],\n",
       "       [-0.59338934,  0.34204835],\n",
       "       [-1.19961644,  0.17102418],\n",
       "       [ 0.01283775, -0.05700806],\n",
       "       [-0.59338934,  0.39905641],\n",
       "       [-0.7003706 ,  1.93827399],\n",
       "       [-0.02282267,  0.11401612],\n",
       "       [-1.09263519,  1.6532337 ],\n",
       "       [ 0.26246067, -0.51307253],\n",
       "       [ 0.29812109, -0.05700806],\n",
       "       [-0.66471018, -0.74110476],\n",
       "       [ 1.29661277,  0.        ],\n",
       "       [-1.27093727, -0.57008059],\n",
       "       [-0.12980392,  0.62708865],\n",
       "       [-1.52056019,  0.05700806],\n",
       "       [-0.73603101, -1.59622564],\n",
       "       [-1.52056019,  0.57008059],\n",
       "       [-0.84301227,  0.57008059],\n",
       "       [-1.02131435, -1.08315311],\n",
       "       [-0.55772893, -1.14016117],\n",
       "       [-0.9143331 ,  2.10929817],\n",
       "       [-1.02131435,  0.11401612],\n",
       "       [ 0.61906484,  0.6840967 ],\n",
       "       [ 1.68887736, -0.11401612],\n",
       "       [ 1.83151903,  0.39905641],\n",
       "       [-0.73603101, -0.74110476],\n",
       "       [ 0.19113984, -1.02614506],\n",
       "       [-0.16546434,  2.16630623],\n",
       "       [ 0.33378151,  0.17102418],\n",
       "       [-0.66471018,  0.62708865],\n",
       "       [-1.27093727,  0.45606447],\n",
       "       [ 0.04849817, -0.34204835],\n",
       "       [-0.9143331 ,  0.28504029],\n",
       "       [-1.41357894, -0.62708865],\n",
       "       [ 1.86717945, -0.91212894],\n",
       "       [ 0.01283775, -1.42520147],\n",
       "       [ 1.90283987, -0.969137  ],\n",
       "       [ 1.18963152,  1.42520147],\n",
       "       [-1.48489978,  1.42520147],\n",
       "       [ 0.19113984, -0.74110476],\n",
       "       [-1.1282956 ,  1.25417729],\n",
       "       [ 0.79736693,  1.93827399],\n",
       "       [ 0.44076276,  0.39905641],\n",
       "       [-0.73603101, -0.91212894]])"
      ]
     },
     "execution_count": 9,
     "metadata": {},
     "output_type": "execute_result"
    }
   ],
   "source": [
    "#standartlaştırma\n",
    "from sklearn import preprocessing\n",
    "# girdileri ölçeklendirelim(scale)\n",
    "# preprocessing.scale her değişkeni(x'deki kolon) kendisine göre ölçeklendirir\n",
    "# yeni sonuç bi dizidir\n",
    "# standartlaştırmaverilerin ortalasından çıkartılıp standart sapm'ya bölünmesi\n",
    "\n",
    "x_scaled= preprocessing.scale(x)\n",
    "x_scaled\n"
   ]
  },
  {
   "cell_type": "code",
   "execution_count": 10,
   "id": "0fbf444a-e2c6-4d6b-81e7-ef2bab279acb",
   "metadata": {},
   "outputs": [
    {
     "data": {
      "text/plain": [
       "[200.0,\n",
       " 128.5641919324419,\n",
       " 78.92744722983494,\n",
       " 58.47842920389001,\n",
       " 45.45015101783881,\n",
       " 35.179486247076895,\n",
       " 28.066186178910407,\n",
       " 23.315000774090365,\n",
       " 20.278989656929014]"
      ]
     },
     "execution_count": 10,
     "metadata": {},
     "output_type": "execute_result"
    }
   ],
   "source": [
    "# K'yı seçmek\n",
    "#boş liste oluşturmak (küme içi kareler toplaması)\n",
    "kikt=[]\n",
    "\n",
    "#olası tüm küme çözümlerini bir döngü ile oluşturma\n",
    "# 1 ile 9 kümeden çözüm elde etmeyi seçtik; \n",
    "for i in range (1,10):\n",
    "    kmeans=KMeans(i)\n",
    "    #standartlaştırılış veriyi fit etme\n",
    "    kmeans.fit(x_scaled)\n",
    "    # yineleme değerini kikt'ye ekleme\n",
    "    kikt.append(kmeans.inertia_)\n",
    "    \n",
    "#sonucu kontrol\n",
    "kikt"
   ]
  },
  {
   "cell_type": "code",
   "execution_count": 11,
   "id": "c9d54404-4cd8-4e35-8905-3f807be13c31",
   "metadata": {},
   "outputs": [
    {
     "data": {
      "text/plain": [
       "Text(0, 0.5, 'Küme-içi Kareler Toplamı')"
      ]
     },
     "execution_count": 11,
     "metadata": {},
     "output_type": "execute_result"
    },
    {
     "data": {
      "image/png": "[encoded data removed]",
      "text/plain": [
       "<Figure size 432x288 with 1 Axes>"
      ]
     },
     "metadata": {
      "needs_background": "light"
     },
     "output_type": "display_data"
    }
   ],
   "source": [
    "# küme sayısı ve kikt grafiğini çizdirme\n",
    "plt.plot(range(1,10), kikt)\n",
    "#eksenleri isimlendirme\n",
    "plt.xlabel('Küme Sayısı')\n",
    "plt.ylabel('Küme-içi Kareler Toplamı')\n",
    "#with-in cluster sum of squares WCSS\n",
    "\n",
    "#Elbow Yöntemi\n",
    "# küme sayısına göre baktığımızda aslında 4 ten sonra bükülme oluyor gibi"
   ]
  },
  {
   "cell_type": "code",
   "execution_count": 12,
   "id": "60fc4df5-2b03-49a0-b00f-9c1e1ea9d038",
   "metadata": {},
   "outputs": [],
   "source": [
    "kmeans_new=KMeans(5)\n",
    "\n",
    "#datayı fit edelim(uyduralım)\n",
    "kmeans_new.fit(x_scaled)\n",
    "cluster_new= x.copy()\n",
    "cluster_new['kume_tahmin']=kmeans_new.fit_predict(x_scaled)"
   ]
  },
  {
   "cell_type": "code",
   "execution_count": 13,
   "id": "00b25a95-2e8a-4bfd-adb3-ea5378fea06e",
   "metadata": {
    "collapsed": true,
    "jupyter": {
     "outputs_hidden": true
    },
    "tags": []
   },
   "outputs": [
    {
     "data": {
      "text/html": [
       "<div>\n",
       "<style scoped>\n",
       "    .dataframe tbody tr th:only-of-type {\n",
       "        vertical-align: middle;\n",
       "    }\n",
       "\n",
       "    .dataframe tbody tr th {\n",
       "        vertical-align: top;\n",
       "    }\n",
       "\n",
       "    .dataframe thead th {\n",
       "        text-align: right;\n",
       "    }\n",
       "</style>\n",
       "<table border=\"1\" class=\"dataframe\">\n",
       "  <thead>\n",
       "    <tr style=\"text-align: right;\">\n",
       "      <th></th>\n",
       "      <th>x</th>\n",
       "      <th>y</th>\n",
       "      <th>kume_tahmin</th>\n",
       "    </tr>\n",
       "  </thead>\n",
       "  <tbody>\n",
       "    <tr>\n",
       "      <th>0</th>\n",
       "      <td>0.12</td>\n",
       "      <td>0.29</td>\n",
       "      <td>4</td>\n",
       "    </tr>\n",
       "    <tr>\n",
       "      <th>1</th>\n",
       "      <td>0.57</td>\n",
       "      <td>0.19</td>\n",
       "      <td>3</td>\n",
       "    </tr>\n",
       "    <tr>\n",
       "      <th>2</th>\n",
       "      <td>0.60</td>\n",
       "      <td>0.57</td>\n",
       "      <td>2</td>\n",
       "    </tr>\n",
       "    <tr>\n",
       "      <th>3</th>\n",
       "      <td>0.06</td>\n",
       "      <td>0.28</td>\n",
       "      <td>4</td>\n",
       "    </tr>\n",
       "    <tr>\n",
       "      <th>4</th>\n",
       "      <td>0.06</td>\n",
       "      <td>0.42</td>\n",
       "      <td>0</td>\n",
       "    </tr>\n",
       "    <tr>\n",
       "      <th>...</th>\n",
       "      <td>...</td>\n",
       "      <td>...</td>\n",
       "      <td>...</td>\n",
       "    </tr>\n",
       "    <tr>\n",
       "      <th>95</th>\n",
       "      <td>0.48</td>\n",
       "      <td>0.22</td>\n",
       "      <td>3</td>\n",
       "    </tr>\n",
       "    <tr>\n",
       "      <th>96</th>\n",
       "      <td>0.11</td>\n",
       "      <td>0.57</td>\n",
       "      <td>0</td>\n",
       "    </tr>\n",
       "    <tr>\n",
       "      <th>97</th>\n",
       "      <td>0.65</td>\n",
       "      <td>0.69</td>\n",
       "      <td>2</td>\n",
       "    </tr>\n",
       "    <tr>\n",
       "      <th>98</th>\n",
       "      <td>0.55</td>\n",
       "      <td>0.42</td>\n",
       "      <td>2</td>\n",
       "    </tr>\n",
       "    <tr>\n",
       "      <th>99</th>\n",
       "      <td>0.22</td>\n",
       "      <td>0.19</td>\n",
       "      <td>4</td>\n",
       "    </tr>\n",
       "  </tbody>\n",
       "</table>\n",
       "<p>100 rows × 3 columns</p>\n",
       "</div>"
      ],
      "text/plain": [
       "       x     y  kume_tahmin\n",
       "0   0.12  0.29            4\n",
       "1   0.57  0.19            3\n",
       "2   0.60  0.57            2\n",
       "3   0.06  0.28            4\n",
       "4   0.06  0.42            0\n",
       "..   ...   ...          ...\n",
       "95  0.48  0.22            3\n",
       "96  0.11  0.57            0\n",
       "97  0.65  0.69            2\n",
       "98  0.55  0.42            2\n",
       "99  0.22  0.19            4\n",
       "\n",
       "[100 rows x 3 columns]"
      ]
     },
     "execution_count": 13,
     "metadata": {},
     "output_type": "execute_result"
    }
   ],
   "source": [
    "cluster_new"
   ]
  },
  {
   "cell_type": "code",
   "execution_count": 14,
   "id": "d9f07b03-43d9-4be2-bacc-7a71c69bb68b",
   "metadata": {},
   "outputs": [
    {
     "data": {
      "text/plain": [
       "Text(0, 0.5, 'y')"
      ]
     },
     "execution_count": 14,
     "metadata": {},
     "output_type": "execute_result"
    },
    {
     "data": {
      "image/png": "[encoded data removed]",
      "text/plain": [
       "<Figure size 432x288 with 1 Axes>"
      ]
     },
     "metadata": {
      "needs_background": "light"
     },
     "output_type": "display_data"
    }
   ],
   "source": [
    "plt.scatter(cluster_new['x'], cluster_new['y'], c=cluster_new['kume_tahmin'], cmap='rainbow')\n",
    "plt.xlabel('x')\n",
    "plt.ylabel('y')\n"
   ]
  },
  {
   "cell_type": "code",
   "execution_count": null,
   "id": "b61a5bd4-48bf-44a2-a073-b665cb920400",
   "metadata": {},
   "outputs": [],
   "source": []
  }
 ],
 "metadata": {
  "kernelspec": {
   "display_name": "Python 3 (ipykernel)",
   "language": "python",
   "name": "python3"
  },
  "language_info": {
   "codemirror_mode": {
    "name": "ipython",
    "version": 3
   },
   "file_extension": ".py",
   "mimetype": "text/x-python",
   "name": "python",
   "nbconvert_exporter": "python",
   "pygments_lexer": "ipython3",
   "version": "3.9.7"
  }
 },
 "nbformat": 4,
 "nbformat_minor": 5
}
