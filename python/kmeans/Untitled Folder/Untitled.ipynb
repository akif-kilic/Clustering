{
 "cells": [
  {
   "cell_type": "code",
   "execution_count": 1,
   "metadata": {},
   "outputs": [
    {
     "name": "stdout",
     "output_type": "stream",
     "text": [
      "(9,)\n"
     ]
    }
   ],
   "source": [
    "import numpy as np\n",
    "array=np.array([1,2,3,4,5,6,7,8,9])\n",
    "#vektör 9x1\n",
    "print(array.shape)"
   ]
  },
  {
   "cell_type": "code",
   "execution_count": 2,
   "metadata": {},
   "outputs": [],
   "source": [
    "a=array.reshape(3,3)"
   ]
  },
  {
   "cell_type": "code",
   "execution_count": 3,
   "metadata": {},
   "outputs": [
    {
     "name": "stdout",
     "output_type": "stream",
     "text": [
      "(3, 3)\n"
     ]
    }
   ],
   "source": [
    "print(a.shape)"
   ]
  },
  {
   "cell_type": "code",
   "execution_count": 5,
   "metadata": {},
   "outputs": [
    {
     "name": "stdout",
     "output_type": "stream",
     "text": [
      "Boyutu:  2\n",
      "Size:  9\n"
     ]
    }
   ],
   "source": [
    "print(\"Boyutu: \", a.ndim)\n",
    "print(\"Size: \",a.size)"
   ]
  },
  {
   "cell_type": "code",
   "execution_count": 6,
   "metadata": {},
   "outputs": [
    {
     "data": {
      "text/plain": [
       "numpy.ndarray"
      ]
     },
     "execution_count": 6,
     "metadata": {},
     "output_type": "execute_result"
    }
   ],
   "source": [
    "type(a)"
   ]
  },
  {
   "cell_type": "code",
   "execution_count": 10,
   "metadata": {},
   "outputs": [],
   "source": [
    "array2=np.array([ [1,2,3,4] , [5,6,7,8] ])\n",
    "array3=np.zeros( (3,4) )\n",
    "array4=np.ones( (5,5) )\n",
    "\n",
    "array5=np.arange(10,50,5)"
   ]
  },
  {
   "cell_type": "code",
   "execution_count": 8,
   "metadata": {},
   "outputs": [
    {
     "data": {
      "text/plain": [
       "array([[1, 2, 3, 4],\n",
       "       [5, 6, 7, 8]])"
      ]
     },
     "execution_count": 8,
     "metadata": {},
     "output_type": "execute_result"
    }
   ],
   "source": [
    "array2"
   ]
  },
  {
   "cell_type": "code",
   "execution_count": 11,
   "metadata": {},
   "outputs": [
    {
     "data": {
      "text/plain": [
       "array([[0., 0., 0., 0.],\n",
       "       [0., 0., 0., 0.],\n",
       "       [0., 0., 0., 0.]])"
      ]
     },
     "execution_count": 11,
     "metadata": {},
     "output_type": "execute_result"
    }
   ],
   "source": [
    "array3"
   ]
  },
  {
   "cell_type": "code",
   "execution_count": 11,
   "metadata": {},
   "outputs": [
    {
     "data": {
      "text/plain": [
       "array([[1., 1., 1., 1., 1.],\n",
       "       [1., 1., 1., 1., 1.],\n",
       "       [1., 1., 1., 1., 1.],\n",
       "       [1., 1., 1., 1., 1.],\n",
       "       [1., 1., 1., 1., 1.]])"
      ]
     },
     "execution_count": 11,
     "metadata": {},
     "output_type": "execute_result"
    }
   ],
   "source": [
    "array4"
   ]
  },
  {
   "cell_type": "code",
   "execution_count": 13,
   "metadata": {},
   "outputs": [
    {
     "data": {
      "text/plain": [
       "array([10, 15, 20, 25, 30, 35, 40, 45])"
      ]
     },
     "execution_count": 13,
     "metadata": {},
     "output_type": "execute_result"
    }
   ],
   "source": [
    "array5"
   ]
  },
  {
   "cell_type": "code",
   "execution_count": 14,
   "metadata": {},
   "outputs": [],
   "source": [
    "array6=np.linspace(1,50,150)# beliritlen ralıklarda 150 sayı üretti"
   ]
  },
  {
   "cell_type": "code",
   "execution_count": 15,
   "metadata": {},
   "outputs": [
    {
     "data": {
      "text/plain": [
       "array([ 1.        ,  1.32885906,  1.65771812,  1.98657718,  2.31543624,\n",
       "        2.6442953 ,  2.97315436,  3.30201342,  3.63087248,  3.95973154,\n",
       "        4.2885906 ,  4.61744966,  4.94630872,  5.27516779,  5.60402685,\n",
       "        5.93288591,  6.26174497,  6.59060403,  6.91946309,  7.24832215,\n",
       "        7.57718121,  7.90604027,  8.23489933,  8.56375839,  8.89261745,\n",
       "        9.22147651,  9.55033557,  9.87919463, 10.20805369, 10.53691275,\n",
       "       10.86577181, 11.19463087, 11.52348993, 11.85234899, 12.18120805,\n",
       "       12.51006711, 12.83892617, 13.16778523, 13.4966443 , 13.82550336,\n",
       "       14.15436242, 14.48322148, 14.81208054, 15.1409396 , 15.46979866,\n",
       "       15.79865772, 16.12751678, 16.45637584, 16.7852349 , 17.11409396,\n",
       "       17.44295302, 17.77181208, 18.10067114, 18.4295302 , 18.75838926,\n",
       "       19.08724832, 19.41610738, 19.74496644, 20.0738255 , 20.40268456,\n",
       "       20.73154362, 21.06040268, 21.38926174, 21.71812081, 22.04697987,\n",
       "       22.37583893, 22.70469799, 23.03355705, 23.36241611, 23.69127517,\n",
       "       24.02013423, 24.34899329, 24.67785235, 25.00671141, 25.33557047,\n",
       "       25.66442953, 25.99328859, 26.32214765, 26.65100671, 26.97986577,\n",
       "       27.30872483, 27.63758389, 27.96644295, 28.29530201, 28.62416107,\n",
       "       28.95302013, 29.28187919, 29.61073826, 29.93959732, 30.26845638,\n",
       "       30.59731544, 30.9261745 , 31.25503356, 31.58389262, 31.91275168,\n",
       "       32.24161074, 32.5704698 , 32.89932886, 33.22818792, 33.55704698,\n",
       "       33.88590604, 34.2147651 , 34.54362416, 34.87248322, 35.20134228,\n",
       "       35.53020134, 35.8590604 , 36.18791946, 36.51677852, 36.84563758,\n",
       "       37.17449664, 37.5033557 , 37.83221477, 38.16107383, 38.48993289,\n",
       "       38.81879195, 39.14765101, 39.47651007, 39.80536913, 40.13422819,\n",
       "       40.46308725, 40.79194631, 41.12080537, 41.44966443, 41.77852349,\n",
       "       42.10738255, 42.43624161, 42.76510067, 43.09395973, 43.42281879,\n",
       "       43.75167785, 44.08053691, 44.40939597, 44.73825503, 45.06711409,\n",
       "       45.39597315, 45.72483221, 46.05369128, 46.38255034, 46.7114094 ,\n",
       "       47.04026846, 47.36912752, 47.69798658, 48.02684564, 48.3557047 ,\n",
       "       48.68456376, 49.01342282, 49.34228188, 49.67114094, 50.        ])"
      ]
     },
     "execution_count": 15,
     "metadata": {},
     "output_type": "execute_result"
    }
   ],
   "source": [
    "array6"
   ]
  },
  {
   "cell_type": "code",
   "execution_count": 17,
   "metadata": {},
   "outputs": [
    {
     "name": "stdout",
     "output_type": "stream",
     "text": [
      "[5 7 9]\n"
     ]
    }
   ],
   "source": [
    "v1=np.array([1,2,3])\n",
    "v2=np.array([4,5,6])\n",
    "print(v1+v2)"
   ]
  },
  {
   "cell_type": "code",
   "execution_count": 18,
   "metadata": {},
   "outputs": [
    {
     "name": "stdout",
     "output_type": "stream",
     "text": [
      "[ 4 10 18]\n"
     ]
    }
   ],
   "source": [
    "print(v1*v2)"
   ]
  },
  {
   "cell_type": "code",
   "execution_count": 20,
   "metadata": {},
   "outputs": [
    {
     "name": "stdout",
     "output_type": "stream",
     "text": [
      "[[ 7 16 27]\n",
      " [28 40 54]]\n"
     ]
    }
   ],
   "source": [
    "c=np.array([ [1,2,3],[4,5,6] ])\n",
    "d=np.array([ [7,8,9] ]) \n",
    "print(c*d)"
   ]
  },
  {
   "cell_type": "code",
   "execution_count": 24,
   "metadata": {},
   "outputs": [],
   "source": [
    "e=np.random.random((5,5))"
   ]
  },
  {
   "cell_type": "code",
   "execution_count": 25,
   "metadata": {},
   "outputs": [
    {
     "data": {
      "text/plain": [
       "array([[0.25705784, 0.26562699, 0.15342736, 0.70572862, 0.11070018],\n",
       "       [0.54037932, 0.98617223, 0.08281885, 0.31423371, 0.07043679],\n",
       "       [0.0103468 , 0.10912103, 0.85992492, 0.15338441, 0.62984711],\n",
       "       [0.00985592, 0.46483366, 0.08481601, 0.96887405, 0.69667749],\n",
       "       [0.96785906, 0.01012671, 0.78642279, 0.16303978, 0.41691897]])"
      ]
     },
     "execution_count": 25,
     "metadata": {},
     "output_type": "execute_result"
    }
   ],
   "source": [
    "e"
   ]
  },
  {
   "cell_type": "code",
   "execution_count": 28,
   "metadata": {},
   "outputs": [
    {
     "name": "stdout",
     "output_type": "stream",
     "text": [
      "0.983164926362227\n"
     ]
    }
   ],
   "source": [
    "print(e.max())#e dizisindeki maksimum değeri verir "
   ]
  },
  {
   "cell_type": "code",
   "execution_count": 29,
   "metadata": {},
   "outputs": [
    {
     "name": "stdout",
     "output_type": "stream",
     "text": [
      "0.04375949756611153\n"
     ]
    }
   ],
   "source": [
    "print(e.min())  #e dizisindeki minumum değeri verir "
   ]
  },
  {
   "cell_type": "code",
   "execution_count": 31,
   "metadata": {},
   "outputs": [
    {
     "name": "stdout",
     "output_type": "stream",
     "text": [
      "14.624381241606324\n"
     ]
    }
   ],
   "source": [
    "print(e.sum()) #e dizisindeki tüm değerlerin toplamınıverir "
   ]
  },
  {
   "cell_type": "code",
   "execution_count": 33,
   "metadata": {},
   "outputs": [],
   "source": [
    "liste=[1,2,3,4]"
   ]
  },
  {
   "cell_type": "code",
   "execution_count": 35,
   "metadata": {},
   "outputs": [
    {
     "data": {
      "text/plain": [
       "list"
      ]
     },
     "execution_count": 35,
     "metadata": {},
     "output_type": "execute_result"
    }
   ],
   "source": [
    "type(liste)"
   ]
  },
  {
   "cell_type": "code",
   "execution_count": 36,
   "metadata": {},
   "outputs": [],
   "source": [
    "y_array=np.array(liste) #listeyi array e dönüştürür"
   ]
  },
  {
   "cell_type": "code",
   "execution_count": 37,
   "metadata": {},
   "outputs": [
    {
     "data": {
      "text/plain": [
       "array([1, 2, 3, 4])"
      ]
     },
     "execution_count": 37,
     "metadata": {},
     "output_type": "execute_result"
    }
   ],
   "source": [
    "y_array"
   ]
  },
  {
   "cell_type": "code",
   "execution_count": 38,
   "metadata": {},
   "outputs": [],
   "source": [
    "liste2=list(y_array) # array i listreye dönüştürür."
   ]
  },
  {
   "cell_type": "code",
   "execution_count": 39,
   "metadata": {},
   "outputs": [
    {
     "data": {
      "text/plain": [
       "[1, 2, 3, 4]"
      ]
     },
     "execution_count": 39,
     "metadata": {},
     "output_type": "execute_result"
    }
   ],
   "source": [
    "liste2"
   ]
  },
  {
   "cell_type": "code",
   "execution_count": null,
   "metadata": {},
   "outputs": [],
   "source": []
  }
 ],
 "metadata": {
  "kernelspec": {
   "display_name": "Python 3 (ipykernel)",
   "language": "python",
   "name": "python3"
  },
  "language_info": {
   "codemirror_mode": {
    "name": "ipython",
    "version": 3
   },
   "file_extension": ".py",
   "mimetype": "text/x-python",
   "name": "python",
   "nbconvert_exporter": "python",
   "pygments_lexer": "ipython3",
   "version": "3.9.7"
  }
 },
 "nbformat": 4,
 "nbformat_minor": 4
}
